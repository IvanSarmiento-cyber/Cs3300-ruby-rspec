{
  "cells": [
    {
      "cell_type": "markdown",
      "metadata": {
        "id": "view-in-github",
        "colab_type": "text"
      },
      "source": [
        "<a href=\"https://colab.research.google.com/github/IvanSarmiento-cyber/Cs3300-ruby-rspec/blob/main/Assignment_Branch_Prediction.ipynb\" target=\"_parent\"><img src=\"https://colab.research.google.com/assets/colab-badge.svg\" alt=\"Open In Colab\"/></a>"
      ]
    },
    {
      "cell_type": "markdown",
      "metadata": {
        "id": "k3glVSeO1DlG"
      },
      "source": [
        "# CS4200"
      ]
    },
    {
      "cell_type": "markdown",
      "metadata": {
        "id": "GRRnNJ691DlJ"
      },
      "source": [
        "# Assignment 4 Branching\n",
        "\n",
        "Total 100 points"
      ]
    },
    {
      "cell_type": "code",
      "execution_count": 1,
      "metadata": {
        "id": "e7pjIVMO1DlK"
      },
      "outputs": [],
      "source": [
        "from random import paretovariate\n",
        "from random import random\n",
        "\n",
        "def next_branch_outcome_loop():\n",
        "    alpha = 2\n",
        "    outcome = paretovariate(alpha)\n",
        "    outcome = outcome > 2\n",
        "    return outcome\n",
        "\n",
        "def next_branch_outcome_random():\n",
        "    outcome = random()\n",
        "    outcome = outcome > 0.5\n",
        "    return outcome\n",
        "\n",
        "class Predictor:\n",
        "\n",
        "    def __init__(self):\n",
        "        self.state = 0\n",
        "\n",
        "    def next_predict(self):\n",
        "        \"\"\"\n",
        "        Use this method to return the prediction based off of the current\n",
        "        state.\n",
        "        \"\"\"\n",
        "        raise NotImplementedError(\"Implement this method\")\n",
        "\n",
        "    def incorrect_predict(self):\n",
        "        \"\"\"\n",
        "        Use this method to set the next state if an incorrect predict\n",
        "        occurred. (self.state = next_state)\n",
        "        \"\"\"\n",
        "        raise NotImplementedError(\"Implement this method\")\n",
        "\n",
        "    def correct_predict(self):\n",
        "        \"\"\"\n",
        "        Use this method to set the next state if an incorrect predict\n",
        "        occurred. (self.state = next_state)\n",
        "        \"\"\"\n",
        "        raise NotImplementedError(\"Implement this method\")"
      ]
    },
    {
      "cell_type": "markdown",
      "metadata": {
        "id": "7sjve-Bx1DlM"
      },
      "source": [
        "## One Bit Predictor\n",
        "\n",
        "Complete the `OneBitPredictor` class by implementing the `next_predict`, `incorrect_predict`, and `correct_predict` methods. This instantiation will be used to compute the prediction accuracy. Use the `next_predict` method of the class to predict the next branch state. If the predict is incorrect, use the `incorrect_predict` method to set the next state. If the predict is correct, use the `correct_predict` method to set the next state."
      ]
    },
    {
      "cell_type": "code",
      "execution_count": 2,
      "metadata": {
        "deletable": false,
        "nbgrader": {
          "checksum": "739a279cea7c1974c3a0180cb10fbcae",
          "grade": true,
          "grade_id": "cell-e3aa7feb611b9370",
          "locked": false,
          "points": 0,
          "schema_version": 1,
          "solution": true
        },
        "id": "jlXTdynS1DlM"
      },
      "outputs": [],
      "source": [
        "class Predictor:\n",
        "    def __init__(self):\n",
        "        self.state = 0\n",
        "\n",
        "    def next_predict(self):\n",
        "        raise NotImplementedError(\"Implement this method\")\n",
        "\n",
        "    def incorrect_predict(self):\n",
        "        raise NotImplementedError(\"Implement this method\")\n",
        "\n",
        "    def correct_predict(self):\n",
        "        raise NotImplementedError(\"Implement this method\")\n",
        "\n",
        "class OneBitPredictor(Predictor):\n",
        "    def next_predict(self):\n",
        "        if self.state == 0:\n",
        "            return False  # Not taken\n",
        "        else:\n",
        "            return True  # Taken\n",
        "\n",
        "    def incorrect_predict(self):\n",
        "        self.state = 1  # Flip the state to predict the opposite outcome\n",
        "\n",
        "    def correct_predict(self):\n",
        "        pass  # No state change for correct predictions\n"
      ]
    },
    {
      "cell_type": "markdown",
      "metadata": {
        "id": "Rn_TzCOz1DlN"
      },
      "source": [
        "### Random Branch Prediction\n",
        "\n",
        "Use the `next_branch_outcome_random` method to generate branch outcomes. Use the previously implemented methods to compute a prediction rate. (25 points)"
      ]
    },
    {
      "cell_type": "code",
      "execution_count": 3,
      "metadata": {
        "deletable": false,
        "nbgrader": {
          "checksum": "f480432bbb7a4c7e4327191ed55505f1",
          "grade": true,
          "grade_id": "cell-0d465713556a19e0",
          "locked": false,
          "points": 0,
          "schema_version": 1,
          "solution": true
        },
        "colab": {
          "base_uri": "https://localhost:8080/"
        },
        "id": "NRdr-gVK1DlN",
        "outputId": "cdf4891c-df45-4152-e605-f0304d5461f1"
      },
      "outputs": [
        {
          "output_type": "stream",
          "name": "stdout",
          "text": [
            "Prediction Rate: 50.50%\n"
          ]
        }
      ],
      "source": [
        "# Instantiate a OneBitPredictor\n",
        "one_bit_predictor = OneBitPredictor()\n",
        "\n",
        "# Initialize variables to keep track of predictions and correct predictions\n",
        "total_predictions = 0\n",
        "correct_predictions = 0\n",
        "\n",
        "# Simulate branch outcomes using next_branch_outcome_random\n",
        "for _ in range(1000):  # You can adjust the number of iterations as needed\n",
        "    branch_outcome = next_branch_outcome_random()\n",
        "    prediction = one_bit_predictor.next_predict()\n",
        "\n",
        "    if branch_outcome == prediction:\n",
        "        correct_predictions += 1\n",
        "\n",
        "    total_predictions += 1\n",
        "\n",
        "    if branch_outcome:\n",
        "        one_bit_predictor.correct_predict()\n",
        "    else:\n",
        "        one_bit_predictor.incorrect_predict()\n",
        "\n",
        "# Calculate prediction rate\n",
        "prediction_rate = correct_predictions / total_predictions\n",
        "print(f\"Prediction Rate: {prediction_rate:.2%}\")\n"
      ]
    },
    {
      "cell_type": "markdown",
      "metadata": {
        "id": "5yD79Yvl1DlN"
      },
      "source": [
        "### Loop Branch Prediction\n",
        "\n",
        "Use the `next_branch_outcome_loop` method to generate branch outcomes. Use the previously implemented methods to compute a prediction rate. (25 points)"
      ]
    },
    {
      "cell_type": "code",
      "execution_count": 4,
      "metadata": {
        "deletable": false,
        "nbgrader": {
          "checksum": "1aca1014f78f8be7ebd7902c9f837f3d",
          "grade": true,
          "grade_id": "cell-9e8421a48773104a",
          "locked": false,
          "points": 0,
          "schema_version": 1,
          "solution": true
        },
        "colab": {
          "base_uri": "https://localhost:8080/"
        },
        "id": "HR1GjzZX1DlN",
        "outputId": "1c50adf1-fa85-45d2-c63e-82cc1d7ae41b"
      },
      "outputs": [
        {
          "output_type": "stream",
          "name": "stdout",
          "text": [
            "Prediction Rate: 25.00%\n"
          ]
        }
      ],
      "source": [
        "# Instantiate a OneBitPredictor\n",
        "one_bit_predictor = OneBitPredictor()\n",
        "\n",
        "# Initialize variables to keep track of predictions and correct predictions\n",
        "total_predictions = 0\n",
        "correct_predictions = 0\n",
        "\n",
        "# Simulate branch outcomes using next_branch_outcome_loop\n",
        "for _ in range(1000):  # You can adjust the number of iterations as needed\n",
        "    branch_outcome = next_branch_outcome_loop()\n",
        "    prediction = one_bit_predictor.next_predict()\n",
        "\n",
        "    if branch_outcome == prediction:\n",
        "        correct_predictions += 1\n",
        "\n",
        "    total_predictions += 1\n",
        "\n",
        "    if branch_outcome:\n",
        "        one_bit_predictor.correct_predict()\n",
        "    else:\n",
        "        one_bit_predictor.incorrect_predict()\n",
        "\n",
        "# Calculate prediction rate\n",
        "prediction_rate = correct_predictions / total_predictions\n",
        "print(f\"Prediction Rate: {prediction_rate:.2%}\")\n"
      ]
    },
    {
      "cell_type": "markdown",
      "metadata": {
        "id": "eYUr5ijb1DlO"
      },
      "source": [
        "## Two Bit Predictor\n",
        "\n",
        "Complete the `TwoBitPredictor` class by implementing the `next_predict`, `incorrect_predict`, and `correct_predict` methods. This instantiation will be used to compute the prediction accuracy. Use the `next_predict` method of the class to predict the next branch state. If the predict is incorrect, use the `incorrect_predict` method to set the next state. If the predict is correct, use the `correct_predict` method to set the next state."
      ]
    },
    {
      "cell_type": "code",
      "execution_count": 5,
      "metadata": {
        "deletable": false,
        "nbgrader": {
          "checksum": "453af3bda00f97e54c0d492ac1cbcfdd",
          "grade": true,
          "grade_id": "cell-8534a496fa4a0c73",
          "locked": false,
          "points": 0,
          "schema_version": 1,
          "solution": true
        },
        "id": "HcryfMh11DlO"
      },
      "outputs": [],
      "source": [
        "class TwoBitPredictor(Predictor):\n",
        "    def next_predict(self):\n",
        "        \"\"\"\n",
        "        Use this method to return the prediction based on the current state.\n",
        "        \"\"\"\n",
        "        if self.state in (0b00, 0b01):\n",
        "            return False  # Not taken\n",
        "        else:\n",
        "            return True  # Taken\n",
        "\n",
        "    def incorrect_predict(self):\n",
        "        \"\"\"\n",
        "        Use this method to set the next state if an incorrect predict occurred.\n",
        "        \"\"\"\n",
        "        if self.state == 0b00:\n",
        "            self.state = 0b01\n",
        "        elif self.state == 0b01:\n",
        "            self.state = 0b10\n",
        "        elif self.state == 0b10:\n",
        "            self.state = 0b11\n",
        "\n",
        "    def correct_predict(self):\n",
        "        \"\"\"\n",
        "        Use this method to set the next state if a correct predict occurred.\n",
        "        \"\"\"\n",
        "        if self.state == 0b11:\n",
        "            self.state = 0b10\n",
        "        elif self.state == 0b10:\n",
        "            self.state = 0b01\n",
        "        elif self.state == 0b01:\n",
        "            self.state = 0b00\n"
      ]
    },
    {
      "cell_type": "markdown",
      "metadata": {
        "id": "WOEV3-J91DlO"
      },
      "source": [
        "### Random Branch Prediction\n",
        "\n",
        "Use the `next_branch_outcome_random` method to generate branch outcomes. Use the previously implemented methods to compute a prediction rate. (25 points)"
      ]
    },
    {
      "cell_type": "code",
      "execution_count": 6,
      "metadata": {
        "deletable": false,
        "nbgrader": {
          "checksum": "ba2df5433d435d49f833bbe85837d766",
          "grade": true,
          "grade_id": "cell-4ef6bdcc1b0112fb",
          "locked": false,
          "points": 0,
          "schema_version": 1,
          "solution": true
        },
        "colab": {
          "base_uri": "https://localhost:8080/"
        },
        "id": "49CHCkst1DlP",
        "outputId": "b5f8db12-f2bf-4495-84b0-507b7bea9f17"
      },
      "outputs": [
        {
          "output_type": "stream",
          "name": "stdout",
          "text": [
            "Prediction Rate: 50.30%\n"
          ]
        }
      ],
      "source": [
        "# Instantiate a TwoBitPredictor\n",
        "two_bit_predictor = TwoBitPredictor()\n",
        "\n",
        "# Initialize variables to keep track of predictions and correct predictions\n",
        "total_predictions = 0\n",
        "correct_predictions = 0\n",
        "\n",
        "# Simulate branch outcomes using next_branch_outcome_random\n",
        "for _ in range(1000):  # You can adjust the number of iterations as needed\n",
        "    branch_outcome = next_branch_outcome_random()\n",
        "    prediction = two_bit_predictor.next_predict()\n",
        "\n",
        "    if branch_outcome == prediction:\n",
        "        correct_predictions += 1\n",
        "\n",
        "    total_predictions += 1\n",
        "\n",
        "    if branch_outcome:\n",
        "        two_bit_predictor.correct_predict()\n",
        "    else:\n",
        "        two_bit_predictor.incorrect_predict()\n",
        "\n",
        "# Calculate prediction rate\n",
        "prediction_rate = correct_predictions / total_predictions\n",
        "print(f\"Prediction Rate: {prediction_rate:.2%}\")\n"
      ]
    },
    {
      "cell_type": "markdown",
      "metadata": {
        "id": "C2iHT2KQ1DlP"
      },
      "source": [
        "### Loop Branch Prediction\n",
        "\n",
        "Use the `next_branch_outcome_loop` method to generate branch outcomes. Use the previously implemented methods to compute a prediction rate. (25 points)"
      ]
    },
    {
      "cell_type": "code",
      "execution_count": 7,
      "metadata": {
        "deletable": false,
        "nbgrader": {
          "checksum": "349adce20a40ecfc993dc2c455501db6",
          "grade": true,
          "grade_id": "cell-f7bb3a35d6b9e0e8",
          "locked": false,
          "points": 0,
          "schema_version": 1,
          "solution": true
        },
        "colab": {
          "base_uri": "https://localhost:8080/"
        },
        "id": "ZO-bjRtY1DlP",
        "outputId": "40e8ad88-ebde-4f8c-897c-25f50749f39a"
      },
      "outputs": [
        {
          "output_type": "stream",
          "name": "stdout",
          "text": [
            "Prediction Rate: 31.90%\n"
          ]
        }
      ],
      "source": [
        "# Instantiate a TwoBitPredictor\n",
        "two_bit_predictor = TwoBitPredictor()\n",
        "\n",
        "# Initialize variables to keep track of predictions and correct predictions\n",
        "total_predictions = 0\n",
        "correct_predictions = 0\n",
        "\n",
        "# Simulate branch outcomes using next_branch_outcome_loop\n",
        "for _ in range(1000):  # You can adjust the number of iterations as needed\n",
        "    branch_outcome = next_branch_outcome_loop()\n",
        "    prediction = two_bit_predictor.next_predict()\n",
        "\n",
        "    if branch_outcome == prediction:\n",
        "        correct_predictions += 1\n",
        "\n",
        "    total_predictions += 1\n",
        "\n",
        "    if branch_outcome:\n",
        "        two_bit_predictor.correct_predict()\n",
        "    else:\n",
        "        two_bit_predictor.incorrect_predict()\n",
        "\n",
        "# Calculate prediction rate\n",
        "prediction_rate = correct_predictions / total_predictions\n",
        "print(f\"Prediction Rate: {prediction_rate:.2%}\")\n"
      ]
    },
    {
      "cell_type": "markdown",
      "metadata": {
        "id": "tJax3u7n1DlP"
      },
      "source": [
        "## N-Bit Predictor\n",
        "\n",
        "Extra credit: 30 points.\n",
        "Inherit the `Predictor` class and implement it's methods just like before. Now, implement an `n-bit` predictor that represents a higher confidence prediction."
      ]
    },
    {
      "cell_type": "code",
      "execution_count": 8,
      "metadata": {
        "deletable": false,
        "nbgrader": {
          "checksum": "43643e55404d4bb3e0c3e22818e32bd3",
          "grade": true,
          "grade_id": "cell-2d366477b01f0499",
          "locked": false,
          "points": 0,
          "schema_version": 1,
          "solution": true
        },
        "id": "zcqJqafa1DlQ"
      },
      "outputs": [],
      "source": [
        "class NBitPredictor(Predictor):\n",
        "    def __init__(self, n):\n",
        "        super().__init__()\n",
        "        self.n = n  # Number of bits for the state\n",
        "        self.state = 0  # Initialize state to 0\n",
        "\n",
        "    def next_predict(self):\n",
        "        \"\"\"\n",
        "        Use this method to return the prediction based on the current state.\n",
        "        \"\"\"\n",
        "        return self.state >> (self.n - 1)\n",
        "\n",
        "    def incorrect_predict(self):\n",
        "        \"\"\"\n",
        "        Use this method to set the next state if an incorrect predict occurred.\n",
        "        \"\"\"\n",
        "        if self.state < (1 << (self.n - 1)):  # Check if the state is below the maximum value\n",
        "            self.state = (self.state << 1) + 1\n",
        "\n",
        "    def correct_predict(self):\n",
        "        \"\"\"\n",
        "        Use this method to set the next state if a correct predict occurred.\n",
        "        \"\"\"\n",
        "        if self.state > 0:  # Check if the state is not already at the lowest value\n",
        "            self.state = self.state << 1\n"
      ]
    },
    {
      "cell_type": "markdown",
      "metadata": {
        "id": "_F7YWlW31DlQ"
      },
      "source": [
        "### Random Branch Prediction\n",
        "\n",
        "Use the `next_branch_outcome_random` method to generate branch outcomes. Use the previously implemented methods to compute a prediction rate. (10 points)"
      ]
    },
    {
      "cell_type": "code",
      "execution_count": 9,
      "metadata": {
        "deletable": false,
        "nbgrader": {
          "checksum": "22e6177850a2be76f68299a831f30f38",
          "grade": true,
          "grade_id": "cell-6fd81fa9e8ae856d",
          "locked": false,
          "points": 10,
          "schema_version": 1,
          "solution": true
        },
        "colab": {
          "base_uri": "https://localhost:8080/"
        },
        "id": "SKVtv9wT1DlQ",
        "outputId": "766e513d-f67e-4d0a-dd48-c72b8d9bce29"
      },
      "outputs": [
        {
          "output_type": "stream",
          "name": "stdout",
          "text": [
            "Prediction Rate: 0.20%\n"
          ]
        }
      ],
      "source": [
        "# YOUR CODE HERE\n",
        "# Instantiate an NBitPredictor with n bits (e.g., n=2 for a 2-bit predictor)\n",
        "n_bit_predictor = NBitPredictor(n=2)\n",
        "\n",
        "# Initialize variables to keep track of predictions and correct predictions\n",
        "total_predictions = 0\n",
        "correct_predictions = 0\n",
        "\n",
        "# Simulate branch outcomes using next_branch_outcome_random\n",
        "for _ in range(1000):  # You can adjust the number of iterations as needed\n",
        "    branch_outcome = next_branch_outcome_random()\n",
        "    prediction = n_bit_predictor.next_predict()\n",
        "\n",
        "    if branch_outcome == prediction:\n",
        "        correct_predictions += 1\n",
        "\n",
        "    total_predictions += 1\n",
        "\n",
        "    if branch_outcome:\n",
        "        n_bit_predictor.correct_predict()\n",
        "    else:\n",
        "        n_bit_predictor.incorrect_predict()\n",
        "\n",
        "# Calculate prediction rate\n",
        "prediction_rate = correct_predictions / total_predictions\n",
        "print(f\"Prediction Rate: {prediction_rate:.2%}\")\n"
      ]
    },
    {
      "cell_type": "markdown",
      "metadata": {
        "id": "MsYpFRDq1DlQ"
      },
      "source": [
        "### Loop Branch Prediction\n",
        "\n",
        "Use the `next_branch_outcome_loop` method to generate branch outcomes. Use the previously implemented methods to compute a prediction rate. (10 points)"
      ]
    },
    {
      "cell_type": "code",
      "execution_count": 10,
      "metadata": {
        "deletable": false,
        "nbgrader": {
          "checksum": "57216930ab4a3b8ed9fee46da17fab2e",
          "grade": true,
          "grade_id": "cell-0eea562a7e158b9a",
          "locked": false,
          "points": 0,
          "schema_version": 1,
          "solution": true
        },
        "colab": {
          "base_uri": "https://localhost:8080/"
        },
        "id": "wynJmvwh1DlR",
        "outputId": "7a40355d-7cb1-41e1-a679-6c59e07e09cf"
      },
      "outputs": [
        {
          "output_type": "stream",
          "name": "stdout",
          "text": [
            "Prediction Rate: 0.30%\n"
          ]
        }
      ],
      "source": [
        "# YOUR CODE HERE\n",
        "# Instantiate an NBitPredictor with n bits (e.g., n=2 for a 2-bit predictor)\n",
        "n_bit_predictor = NBitPredictor(n=2)\n",
        "\n",
        "# Initialize variables to keep track of predictions and correct predictions\n",
        "total_predictions = 0\n",
        "correct_predictions = 0\n",
        "\n",
        "# Simulate branch outcomes using next_branch_outcome_loop\n",
        "for _ in range(1000):  # You can adjust the number of iterations as needed\n",
        "    branch_outcome = next_branch_outcome_loop()\n",
        "    prediction = n_bit_predictor.next_predict()\n",
        "\n",
        "    if branch_outcome == prediction:\n",
        "        correct_predictions += 1\n",
        "\n",
        "    total_predictions += 1\n",
        "\n",
        "    if branch_outcome:\n",
        "        n_bit_predictor.correct_predict()\n",
        "    else:\n",
        "        n_bit_predictor.incorrect_predict()\n",
        "\n",
        "# Calculate prediction rate\n",
        "prediction_rate = correct_predictions / total_predictions\n",
        "print(f\"Prediction Rate: {prediction_rate:.2%}\")\n"
      ]
    }
  ],
  "metadata": {
    "kernelspec": {
      "display_name": "Python 3",
      "language": "python",
      "name": "python3"
    },
    "language_info": {
      "codemirror_mode": {
        "name": "ipython",
        "version": 3
      },
      "file_extension": ".py",
      "mimetype": "text/x-python",
      "name": "python",
      "nbconvert_exporter": "python",
      "pygments_lexer": "ipython3",
      "version": "3.6.9"
    },
    "colab": {
      "provenance": [],
      "include_colab_link": true
    }
  },
  "nbformat": 4,
  "nbformat_minor": 0
}